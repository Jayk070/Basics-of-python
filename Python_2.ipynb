{
  "nbformat": 4,
  "nbformat_minor": 0,
  "metadata": {
    "colab": {
      "name": "Python 2",
      "provenance": [],
      "collapsed_sections": []
    },
    "kernelspec": {
      "name": "python3",
      "display_name": "Python 3"
    },
    "language_info": {
      "name": "python"
    }
  },
  "cells": [
    {
      "cell_type": "code",
      "execution_count": null,
      "metadata": {
        "id": "IdgeRrQBcsP3",
        "colab": {
          "base_uri": "https://localhost:8080/"
        },
        "outputId": "ee50d39c-fd35-44dc-fb58-3948d35b9a49"
      },
      "outputs": [
        {
          "output_type": "stream",
          "name": "stdout",
          "text": [
            "2.3\n",
            "2\n",
            "312\n",
            "312.0\n",
            "35\n",
            "314.3\n",
            "2.3 312\n"
          ]
        }
      ],
      "source": [
        "Name = \"Jay\"\n",
        "Surname = \"Kolhe\"\n",
        "Name+Surname\n",
        "a=2.3\n",
        "print(a)\n",
        "print(int(a))\n",
        "b=312\n",
        "print(b)\n",
        "print(float(b))\n",
        "c=35\n",
        "print(c)\n",
        "print(a+b)\n",
        "print(a,b)"
      ]
    },
    {
      "cell_type": "code",
      "source": [
        "Name=\"Jay Kolhe\"\n",
        "print(Name)\n",
        "Age=22\n",
        "print(Age)\n",
        "Class=\"T.Y.B.Sc\"\n",
        "print(Class)\n",
        "College=\"SPC\"\n",
        "print(College)\n",
        "\"My Name is {} & I'm {} years old\".format(Name,Age)"
      ],
      "metadata": {
        "colab": {
          "base_uri": "https://localhost:8080/",
          "height": 122
        },
        "id": "ysmC0WiTjBg7",
        "outputId": "ce7f7987-6efc-44bc-8647-37a77cccd928"
      },
      "execution_count": null,
      "outputs": [
        {
          "output_type": "stream",
          "name": "stdout",
          "text": [
            "Jay Kolhe\n",
            "22\n",
            "T.Y.B.Sc\n",
            "SPC\n"
          ]
        },
        {
          "output_type": "execute_result",
          "data": {
            "text/plain": [
              "\"My Name is Jay Kolhe & I'm 22 years old\""
            ],
            "application/vnd.google.colaboratory.intrinsic+json": {
              "type": "string"
            }
          },
          "metadata": {},
          "execution_count": 27
        }
      ]
    },
    {
      "cell_type": "code",
      "source": [
        "Quantity= 1000\n",
        "Item= \"cheese\"\n",
        "Price= 1\n",
        "Country=\"Indian\"\n",
        "myorder= \"I want {a} pieces of {b} for {c} Rupees. Rupees is a {d} currency\"\n",
        "print(myorder.format(a=Quantity,b=Item,c=Price,d=Country))"
      ],
      "metadata": {
        "colab": {
          "base_uri": "https://localhost:8080/"
        },
        "id": "qbK3SYEbkip7",
        "outputId": "880a1308-39a2-476c-c643-a26d66ab7b9a"
      },
      "execution_count": null,
      "outputs": [
        {
          "output_type": "stream",
          "name": "stdout",
          "text": [
            "I want 1000 pieces of cheese for 1 Rupees. Rupees is a Indian currency\n"
          ]
        }
      ]
    }
  ]
}